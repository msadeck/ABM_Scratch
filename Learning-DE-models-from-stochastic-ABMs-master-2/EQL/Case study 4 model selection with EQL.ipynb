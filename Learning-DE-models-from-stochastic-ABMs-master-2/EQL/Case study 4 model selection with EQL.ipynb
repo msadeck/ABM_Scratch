{
 "cells": [
  {
   "cell_type": "code",
   "execution_count": 1,
   "metadata": {},
   "outputs": [],
   "source": [
    "from PDEFind_class_online import PDE_Findclass\n",
    "import time, glob, os, pdb\n",
    "import numpy as np\n",
    "import matplotlib.pyplot as plt\n",
    "from IPython.display import set_matplotlib_formats\n",
    "set_matplotlib_formats('png', 'pdf')\n",
    "from model_selection_IP3 import ODE_sim,learned_RHS_ODE\n",
    "from PDE_FIND3 import print_pde\n",
    "\n",
    "#increase font size throughout\n",
    "font = {'size'   : 20}\n",
    "plt.rc('font', **font)"
   ]
  },
  {
   "cell_type": "code",
   "execution_count": 2,
   "metadata": {},
   "outputs": [],
   "source": [
    "#PDE-FIND values\n",
    "#Where data is stored\n",
    "data_dir = \"../data/\"\n",
    "#Additional name in filenames\n",
    "comp_str = \"\"\n",
    "model_name = \"\"\n",
    "\n",
    "#percentage of training, testing points\n",
    "trainPerc = 0.5\n",
    "valPerc = 0.5\n",
    "\n",
    "#degree of library\n",
    "deg = 4\n",
    "\n",
    "#Learning algorithm\n",
    "algo_name = 'Greedy'\n",
    "\n",
    "#pruning percentage\n",
    "prune_level = 0\n",
    "\n",
    "num_eqns = 3\n",
    "#save_learned_eqns = True\n",
    "#save_xi = True\n",
    "#save_learned_xi = True\n",
    "\n",
    "#number of equations to learn\n",
    "reals = 100"
   ]
  },
  {
   "cell_type": "code",
   "execution_count": 5,
   "metadata": {},
   "outputs": [],
   "source": [
    "# growth, death terms\n",
    "\n",
    "rp_vec = [0.005,0.01,0.05,0.1,0.50]\n",
    "\n",
    "## Initialize summary lists list of learned xi vectors\n",
    "xi_learned = []\n",
    "description_selected = []\n",
    "votes = []\n",
    "\n",
    "#counter\n",
    "count = 1\n",
    "\n",
    "for rp in rp_vec:\n",
    "    rd = rp/2.0\n",
    "\n",
    "    dataset = [\"logistic_ABM_sim_rp_\"+str(rp)+\"_rd_\"+str(rd)+\"_real50\"]\n",
    "\n",
    "    #Run pipeline\n",
    "    pf = PDE_Findclass(dataset,\n",
    "                   comp_str,\n",
    "                   model_name,\n",
    "                   data_dir=data_dir,\n",
    "                   reals=reals,\n",
    "                   trainPerc = trainPerc,\n",
    "                   valPerc = valPerc,\n",
    "                   deg=deg,\n",
    "                   prune_level = prune_level,\n",
    "                   num_eqns=num_eqns,\n",
    "                   algo_name = algo_name)\n",
    "\n",
    "\n",
    "    pf.logistic_compare()\n",
    "    \n",
    "    xi_learned.append(np.mean(np.real(np.array(pf.xi_list)),axis=0))\n",
    "    description_selected.append(pf.description)\n",
    "    votes.append(pf.votes)"
   ]
  },
  {
   "cell_type": "code",
   "execution_count": 6,
   "metadata": {},
   "outputs": [
    {
     "name": "stdout",
     "output_type": "stream",
     "text": [
      "\\begin{tabular}{|c|c|c|c|}\n",
      "    \\hline\n",
      "    $P_p$ & \\ $P_d$ & \\ \\multicolumn{1}{c}{Selected Model} & Votes \\\\ \n",
      "    \\hline\n",
      "    $0.005$ & $0.0025$ & $\\nicefrac{\\text{d}C}{\\text{d}t} =  - 0.00245C    + 0.00485C(1-C)   $ & 57 \\\\\n",
      "    \\hline\n",
      "    $0.01$ & $0.005$ & $\\nicefrac{\\text{d}C}{\\text{d}t} =  - 0.00483C    + 0.00951C(1-C)   $ & 68 \\\\\n",
      "    \\hline\n",
      "    $0.05$ & $0.025$ & $\\nicefrac{\\text{d}C}{\\text{d}t} =  - 0.02483C    + 0.04937C(1-FC)   $ & 96 \\\\\n",
      "    \\hline\n",
      "    $0.1$ & $0.05$ & $\\nicefrac{\\text{d}C}{\\text{d}t} =  - 0.04967C    + 0.09877C(1-FC)   $ & 100 \\\\\n",
      "    \\hline\n",
      "    $0.5$ & $0.25$ & $\\nicefrac{\\text{d}C}{\\text{d}t} =  - 0.25271C    + 0.50315C(1-FC)   $ & 100 \\\\\n",
      "    \\hline\n",
      "\\end{tabular}\n"
     ]
    }
   ],
   "source": [
    "##Creates table that can be copied and pasted into a LaTeX table environment.\n",
    "\n",
    "print('\\\\begin{tabular}{|c|c|c|c|}')\n",
    "print('    \\\\hline')\n",
    "print('    $P_p$ & \\\\ $P_d$ & \\\\ \\\\multicolumn{1}{c}{Selected Model} & Votes \\\\\\\\ ')\n",
    "print('    \\\\hline')\n",
    "\n",
    "for i,rp in enumerate(rp_vec):\n",
    "\n",
    "    rd = rp/2.0\n",
    "\n",
    "    learned = print_pde(xi_learned[i],description_selected[i],ut=\"\\\\nicefrac{\\\\text{d}C}{\\\\text{d}t}\")\n",
    "\n",
    "    print(\"    $\" + str(rp) + \"$ & $\" + str(rd) + \"$ & $\" + learned + \"$ & \"+str(votes[i])+\" \\\\\\\\\")\n",
    "    print(\"    \\\\hline\")\n",
    "print('\\\\end{tabular}')\n",
    "\n"
   ]
  },
  {
   "cell_type": "code",
   "execution_count": null,
   "metadata": {},
   "outputs": [],
   "source": []
  }
 ],
 "metadata": {
  "kernelspec": {
   "display_name": "Python 3",
   "language": "python",
   "name": "python3"
  },
  "language_info": {
   "codemirror_mode": {
    "name": "ipython",
    "version": 3
   },
   "file_extension": ".py",
   "mimetype": "text/x-python",
   "name": "python",
   "nbconvert_exporter": "python",
   "pygments_lexer": "ipython3",
   "version": "3.7.3"
  }
 },
 "nbformat": 4,
 "nbformat_minor": 2
}
