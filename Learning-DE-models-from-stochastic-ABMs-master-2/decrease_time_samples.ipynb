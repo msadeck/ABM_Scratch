{
 "cells": [
  {
   "cell_type": "code",
   "execution_count": 1,
   "metadata": {},
   "outputs": [],
   "source": [
    "import numpy as np \n",
    "from scipy.io import loadmat\n",
    "import glob, pdb\n",
    "\n",
    "import matplotlib.pyplot as plt"
   ]
  },
  {
   "cell_type": "code",
   "execution_count": 2,
   "metadata": {},
   "outputs": [],
   "source": [
    "def finite_diff(C,dt):\n",
    "\tdCdt = np.zeros(C.shape)\n",
    "\tdCdt[1:-1] = (C[2:] - C[:-2])/(2*dt)\n",
    "\tdCdt[0] = (C[1] - C[0])/dt\n",
    "\tdCdt[-1] = (C[-1] - C[-2])/dt\n",
    "\n",
    "\treturn dCdt"
   ]
  },
  {
   "cell_type": "code",
   "execution_count": 10,
   "metadata": {
    "scrolled": false
   },
   "outputs": [
    {
     "data": {
      "text/plain": [
       "'\\tt = mat[\\'t\\'].T\\n\\n\\tu_ABM = mat[\\'ABM_sim\\']\\n\\tu_ABM_t = mat[\\'ABM_sim_t\\']\\n\\n\\tdata = {}\\n\\tdata[\\'inputs\\'] = t\\n\\tdata[\\'outputs\\'] = u_ABM\\n\\tdata[\\'derivative_names\\'] = [\\'u\\',\\'u_t\\']\\n\\tdata[\\'m\\'] = mat[\\'m\\']\\n\\tdata[\\'rp\\'] = mat[\\'rp\\']\\n\\tdata[\\'rd\\'] = mat[\\'rd\\']\\n\\tdata[\\'rm\\'] = mat[\\'rm\\']\\n\\tdata[\\'F\\'] = mat[\\'F\\']\\n\\n\\tdata[\\'variables\\'] = [t,u_ABM,u_ABM_t]\\n\\tdata[\\'variable_names\\'] = [\\'x_1\\',\\'u\\',\\'u_x1\\']\\n\\t\\n\\tprint(file[:-4]+\".npy\")\\n\\tnp.save(file[:-4]+\".npy\",data)'"
      ]
     },
     "execution_count": 10,
     "metadata": {},
     "output_type": "execute_result"
    }
   ],
   "source": [
    "for i in np.arange(10):\n",
    "    for file in glob.glob(\"data/logistic_ABM_sim_rp_0.05_rd_0.0125_real50_dataset\"+str(i+1)+\".npy\"):\n",
    "\n",
    "        mat = np.load(file,allow_pickle=True).item()\n",
    "\n",
    "        t = mat['inputs']\n",
    "\n",
    "        u = mat['outputs']\n",
    "        u_t = mat['variables'][2]\n",
    "        derivative_names = mat['derivative_names']\n",
    "        m = mat['m']\n",
    "        rp = mat['rp']\n",
    "        rd = mat['rd']\n",
    "        rm = mat['rm']\n",
    "        F = mat['F']\n",
    "\n",
    "        data = {}\n",
    "        data['inputs'] = t\n",
    "        data['outputs'] = u\n",
    "        data['derivative_names'] = ['u','u_t']\n",
    "        data['m'] = mat['m']\n",
    "        data['rp'] = mat['rp']\n",
    "        data['rd'] = mat['rd']\n",
    "        data['rm'] = mat['rm']\n",
    "        data['F'] = mat['F']\n",
    "\n",
    "        data['variables'] = [t,u,u_t]\n",
    "        data['variable_names'] = ['x_1','u','u_x1']\n",
    "\n",
    "        np.save(\"data/logistic_ABM_sim_rp_0.05_rd_0.0125_real50_samples_\"+str(len(t))+\"_dataset\"+str(i+1)+\".npy\",data)\n",
    "\n",
    "        for j in np.arange(5):\n",
    "\n",
    "            t = t[::2,:]\n",
    "            u = u[::2,:]\n",
    "\n",
    "            dt = t[1] - t[0]\n",
    "            u_t = finite_diff(u,dt)\n",
    "\n",
    "            data = {}\n",
    "            data['inputs'] = t\n",
    "            data['outputs'] = u\n",
    "            data['derivative_names'] = ['u','u_t']\n",
    "            data['m'] = mat['m']\n",
    "            data['rp'] = mat['rp']\n",
    "            data['rd'] = mat['rd']\n",
    "            data['rm'] = mat['rm']\n",
    "            data['F'] = mat['F']\n",
    "\n",
    "            data['variables'] = [t,u,u_t]\n",
    "            data['variable_names'] = ['x_1','u','u_x1']\n",
    "\n",
    "            np.save(\"data/logistic_ABM_sim_rp_0.05_rd_0.0125_real50_samples_\"+str(len(t))+\"_dataset\"+str(i+1)+\".npy\",data)\n",
    "    \n",
    "    \n",
    "'''\tt = mat['t'].T\n",
    "\n",
    "\tu_ABM = mat['ABM_sim']\n",
    "\tu_ABM_t = mat['ABM_sim_t']\n",
    "\n",
    "\tdata = {}\n",
    "\tdata['inputs'] = t\n",
    "\tdata['outputs'] = u_ABM\n",
    "\tdata['derivative_names'] = ['u','u_t']\n",
    "\tdata['m'] = mat['m']\n",
    "\tdata['rp'] = mat['rp']\n",
    "\tdata['rd'] = mat['rd']\n",
    "\tdata['rm'] = mat['rm']\n",
    "\tdata['F'] = mat['F']\n",
    "\n",
    "\tdata['variables'] = [t,u_ABM,u_ABM_t]\n",
    "\tdata['variable_names'] = ['x_1','u','u_x1']\n",
    "\t\n",
    "\tprint(file[:-4]+\".npy\")\n",
    "\tnp.save(file[:-4]+\".npy\",data)'''\n",
    "\n"
   ]
  },
  {
   "cell_type": "code",
   "execution_count": null,
   "metadata": {
    "scrolled": false
   },
   "outputs": [],
   "source": [
    "vec = [100,50,25,13,7,4]\n",
    "\n",
    "for v in vec:\n",
    "    \n",
    "    mat = np.load(\"data/logistic_ABM_sim_rp_0.05_rd_0.0125_real50_samples_\"+str(v)+\".npy\",allow_pickle=True).item()\n",
    "    \n",
    "    t = mat['inputs']\n",
    "\n",
    "    u = mat['outputs']\n",
    "    u_t = mat['variables'][2]\n",
    "    \n",
    "    fig = plt.figure()\n",
    "    ax = fig.add_subplot(111)\n",
    "    ax.plot(t,u,'.')\n",
    "    ax = ax.twinx()\n",
    "    ax.plot(t,u_t,'r-')\n",
    "    "
   ]
  },
  {
   "cell_type": "code",
   "execution_count": null,
   "metadata": {},
   "outputs": [],
   "source": []
  }
 ],
 "metadata": {
  "kernelspec": {
   "display_name": "Python 3",
   "language": "python",
   "name": "python3"
  },
  "language_info": {
   "codemirror_mode": {
    "name": "ipython",
    "version": 3
   },
   "file_extension": ".py",
   "mimetype": "text/x-python",
   "name": "python",
   "nbconvert_exporter": "python",
   "pygments_lexer": "ipython3",
   "version": "3.7.3"
  }
 },
 "nbformat": 4,
 "nbformat_minor": 2
}
