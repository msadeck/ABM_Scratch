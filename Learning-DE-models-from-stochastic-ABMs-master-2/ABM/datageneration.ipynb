{
 "cells": [
  {
   "cell_type": "code",
   "execution_count": null,
   "id": "2137b185-456f-48fe-9744-81845f36c31b",
   "metadata": {},
   "outputs": [],
   "source": [
    "import math\n",
    "import random\n",
    "import numpy as np\n",
    "import matplotlib.pyplot as plt\n",
    "import pdb\n",
    "from scipy import integrate\n",
    "import matplotlib as mpl\n",
    "from scipy import interpolate\n",
    "import time\n",
    "\n",
    "from ABM_package import *\n",
    "\n",
    "\n",
    "rp = 0.5\n",
    "rd = 0.125\n",
    "rm = 1.0\n",
    "f= 1\n",
    "\n",
    "all_A_out = []\n",
    "all_T_out = []\n",
    "\n",
    "# Loop to generate 100 runs\n",
    "for i in range(30):\n",
    "    # Run the model\n",
    "    A_out, T_out, plot_list = BDM_ABM(rp, rd, rm, f, T_end=15.0)\n",
    "    \n",
    "    # Append outputs to lists\n",
    "    all_A_out.append(A_out)\n",
    "\n",
    "# Convert lists to numpy arrays (matrices)\n",
    "# Shape will be (100, length_of_each_run)\n",
    "A_matrix = np.array(all_A_out)\n",
    "\n",
    "#take the averages at each time point across each simulation\n",
    "sim_ave=np.mean(A_matrix, axis=0)\n",
    "ABM_t= compute_derivative(T_out, sim_ave)\n",
    "\n",
    "t2= T_out.reshape(-1,1)\n",
    "ABM2=sim_ave.reshape(-1,1)\n",
    "ABM_t2=ABM_t.reshape(-1,1)\n",
    "\n",
    "data= {'variables': [t2, ABM2, ABM_t2]}\n",
    "np.save(\"../data/test5.npy\", data)"
   ]
  }
 ],
 "metadata": {
  "kernelspec": {
   "display_name": "Python 3 (ipykernel)",
   "language": "python",
   "name": "python3"
  },
  "language_info": {
   "codemirror_mode": {
    "name": "ipython",
    "version": 3
   },
   "file_extension": ".py",
   "mimetype": "text/x-python",
   "name": "python",
   "nbconvert_exporter": "python",
   "pygments_lexer": "ipython3",
   "version": "3.11.10"
  }
 },
 "nbformat": 4,
 "nbformat_minor": 5
}
