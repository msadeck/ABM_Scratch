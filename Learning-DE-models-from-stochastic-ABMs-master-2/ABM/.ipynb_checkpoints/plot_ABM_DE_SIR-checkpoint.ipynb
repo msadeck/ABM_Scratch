{
 "cells": [
  {
   "cell_type": "code",
   "execution_count": 1,
   "metadata": {},
   "outputs": [],
   "source": [
    "import math\n",
    "import random\n",
    "import numpy as np\n",
    "import matplotlib.pyplot as plt\n",
    "import pdb\n",
    "from scipy import integrate\n",
    "import matplotlib as mpl\n",
    "from scipy import interpolate\n",
    "import time\n",
    "\n",
    "from ABM_package import *"
   ]
  },
  {
   "cell_type": "code",
   "execution_count": 3,
   "metadata": {},
   "outputs": [
    {
     "data": {
      "text/plain": [
       "[<matplotlib.lines.Line2D at 0x1209022e8>]"
      ]
     },
     "execution_count": 3,
     "metadata": {},
     "output_type": "execute_result"
    },
    {
     "data": {
      "image/png": "[encoded data removed]",
      "text/plain": [
       "<Figure size 864x216 with 4 Axes>"
      ]
     },
     "metadata": {
      "needs_background": "light"
     },
     "output_type": "display_data"
    }
   ],
   "source": [
    "#parameters\n",
    "ri = 0.1\n",
    "rr = ri/10.0\n",
    "rm = 1.0\n",
    "\n",
    "#final time point\n",
    "T_end = 5.0\n",
    "t = np.linspace(0,T_end/rr,100)\n",
    "plot_ind = [2,7,15]\n",
    "\n",
    "#initial fraction of susceptible (S), infected (I), and recovered (R) agents\n",
    "# (should sum to less than 1)\n",
    "\n",
    "s0 = 0.49\n",
    "i0 = 0.01\n",
    "r0 = 0\n",
    "N = s0 + i0 + r0\n",
    "\n",
    "#simulate ABM\n",
    "S,I,R,t,A_list,_ = SIR_ABM(ri,rr,rm,T_end)\n",
    "\n",
    "#simulate mean-field model\n",
    "SIR_y = ODE_sim(np.array([ri*N,rr]),SIR_ODE,t,np.array([s0/N,i0/N,r0/N]))\n",
    "\n",
    "#plot!\n",
    "fig = plt.figure(figsize=(12,3))\n",
    "\n",
    "cmaplist = [(1.0,1.0,1.0,1.0),(0.0,0.0,1.0,1.0),(0.0,200.0/256.0,0.0,1.0),(0.0,0.0,0.0,1.0)]\n",
    "cmap = mpl.colors.LinearSegmentedColormap.from_list(\n",
    "    'Custom cmap', cmaplist, N = 4)\n",
    "\n",
    "for i in np.arange(3):\n",
    "\n",
    "    ax = fig.add_subplot(1,4,1+i,adjustable='box')\n",
    "    ax.matshow(A_list[plot_ind[i]],cmap=cmap,vmax=3)\n",
    "    ax.set_xticks([])\n",
    "    ax.set_yticks([])\n",
    "\n",
    "\n",
    "\n",
    "\n",
    "ax = fig.add_subplot(1,4,4)\n",
    "\n",
    "#Mean-field model\n",
    "ax.plot(rr*t,SIR_y[0,:],'b-',label=\"S\")\n",
    "ax.plot(rr*t,SIR_y[1,:],'g-',label=\"I\")\n",
    "ax.plot(rr*t,SIR_y[2,:],'k-',label=\"R\")\n",
    "\n",
    "atit = ax.set_title(\"ABM output vs. MF model\")\n",
    "atit.set_position((0.5,1.05))\n",
    "ax.set_ylabel(\"$S,I,R$\")\n",
    "ax.yaxis.tick_right()\n",
    "\n",
    "#ABM output\n",
    "ax.plot(rr*t[::4],S[::4],'b.',markersize=8)\n",
    "ax.plot(rr*t[::4],I[::4],'g.',markersize=8)\n",
    "ax.plot(rr*t[::4],R[::4],'k.',markersize=8)"
   ]
  },
  {
   "cell_type": "markdown",
   "metadata": {},
   "source": [
    "## Save data for EQL "
   ]
  },
  {
   "cell_type": "code",
   "execution_count": null,
   "metadata": {},
   "outputs": [],
   "source": [
    "rm = 1.0\n",
    "reals = 5\n",
    "T_end = 5.0"
   ]
  },
  {
   "cell_type": "code",
   "execution_count": null,
   "metadata": {},
   "outputs": [],
   "source": [
    "def finite_diff(C,dt):\n",
    "    dCdt = np.zeros(C.shape)\n",
    "    dCdt[1:-1] = (C[2:] - C[:-2])/(2*dt)\n",
    "    dCdt[0] = (C[1] - C[0])/dt\n",
    "    dCdt[-1] = (C[-1] - C[-2])/dt\n",
    "\n",
    "    return dCdt\n"
   ]
  },
  {
   "cell_type": "code",
   "execution_count": null,
   "metadata": {},
   "outputs": [],
   "source": [
    "## Note: This code will take very long for large \"reals\" values and small values of \"ri\"\n",
    "\n",
    "#loop over infection rates\n",
    "for ri in [.25]:#[.25,.1,.01,.005]:\n",
    "    #loop over recovery rates\n",
    "    for rr in [ri]:#,ri/2.0,ri/4.0,ri/10.0]:\n",
    "\n",
    "        print(\"parameter values P_I = \" + str(ri) + \", P_R = \" +str(rr))\n",
    "    \n",
    "        for i in np.arange(reals):\n",
    "            print(\"    Computing realization: \"+ str(i))\n",
    "\n",
    "            #compute ABM\n",
    "            S,I,R,t,A_list,N = SIR_ABM(ri,rr,rm,T_end)\n",
    "\n",
    "            #save to variable\n",
    "            if i == 0:\n",
    "                S_reals = S[:,np.newaxis]\n",
    "                I_reals = I[:,np.newaxis]\n",
    "                R_reals = R[:,np.newaxis]\n",
    "            else:\n",
    "                S_reals = np.hstack([S_reals,S[:,np.newaxis]])\n",
    "                I_reals = np.hstack([I_reals,I[:,np.newaxis]])\n",
    "                R_reals = np.hstack([R_reals,R[:,np.newaxis]])\n",
    "            \n",
    "        #save to file\n",
    "        t = t[:,np.newaxis]\n",
    "        S = np.mean(S_reals,axis=1)[:,np.newaxis]\n",
    "        I = np.mean(I_reals,axis=1)[:,np.newaxis]\n",
    "        R = np.mean(R_reals,axis=1)[:,np.newaxis]\n",
    "\n",
    "        S_std = np.std(S_reals,axis=1)[:,np.newaxis]\n",
    "        I_std = np.std(I_reals,axis=1)[:,np.newaxis]\n",
    "        R_std = np.std(R_reals,axis=1)[:,np.newaxis]\n",
    "\n",
    "        dt = t[1] - t[0]\n",
    "\n",
    "        St = finite_diff(S,dt)\n",
    "        It = finite_diff(I,dt)\n",
    "        Rt = finite_diff(R,dt)\n",
    "\n",
    "        variables = np.hstack((t,S,St,I,It,R,Rt))\n",
    "        variable_names = ['t','S','St','I','It','R','Rt']\n",
    "\n",
    "        data = {}\n",
    "\n",
    "        data['variables'] = variables \n",
    "        data['variable_names'] = variable_names\n",
    "\n",
    "        data['rr'] = rr\n",
    "        data['ri'] = ri\n",
    "        data['rm'] = rm\n",
    "\n",
    "        np.save(\"../data/SIR_ABM_TEST_ri_\"+str(round(ri,3)) + \"_rr_\"+str(round(rr,3)) + \"_real\"+str(i+1)+\".npy\",data)"
   ]
  },
  {
   "cell_type": "code",
   "execution_count": null,
   "metadata": {},
   "outputs": [],
   "source": []
  }
 ],
 "metadata": {
  "kernelspec": {
   "display_name": "3.7.1",
   "language": "python",
   "name": "3.7.1"
  },
  "language_info": {
   "codemirror_mode": {
    "name": "ipython",
    "version": 3
   },
   "file_extension": ".py",
   "mimetype": "text/x-python",
   "name": "python",
   "nbconvert_exporter": "python",
   "pygments_lexer": "ipython3",
   "version": "3.7.1"
  }
 },
 "nbformat": 4,
 "nbformat_minor": 2
}
