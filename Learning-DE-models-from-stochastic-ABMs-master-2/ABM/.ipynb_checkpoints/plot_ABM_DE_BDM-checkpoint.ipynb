{
 "cells": [
  {
   "cell_type": "code",
   "execution_count": null,
   "metadata": {},
   "outputs": [],
   "source": [
    "import math\n",
    "import random\n",
    "import numpy as np\n",
    "import matplotlib.pyplot as plt\n",
    "import pdb\n",
    "from scipy import integrate\n",
    "import matplotlib as mpl\n",
    "from scipy import interpolate\n",
    "import time\n",
    "\n",
    "from ABM_package import *"
   ]
  },
  {
   "cell_type": "code",
   "execution_count": null,
   "metadata": {},
   "outputs": [],
   "source": [
    "rp = 0.5\n",
    "rd = 0.125\n",
    "rm = 1.0\n",
    "\n",
    "A_out,t_out,plot_list = BDM_ABM(rp,rd,rm,T_end=15.0)"
   ]
  },
  {
   "cell_type": "code",
   "execution_count": null,
   "metadata": {},
   "outputs": [],
   "source": [
    "plot_ind = [2,7,15]\n",
    "\n",
    "cmaplist = [(1.0,1.0,1.0,1.0),(0.0,0.0,1.0,1.0)]\n",
    "cmap = mpl.colors.LinearSegmentedColormap.from_list(\n",
    "    'Custom cmap', cmaplist, N = 2)\n",
    "\n",
    "font = {'size'   : 13}\n",
    "\n",
    "plt.rc('font', **font)\n",
    "\n",
    "fig = plt.figure(figsize=(12,3))\n",
    "\n",
    "ax = fig.add_subplot(1,4,4,adjustable='box')\n",
    "\n",
    "r = rp-rd\n",
    "K = r/rp\n",
    "c0 = 0.05\n",
    "logist = K*c0*(np.e**(r*t_out))/(K + c0*(np.e**(r*t_out)-1))\n",
    "\n",
    "ax.plot(t_out*(rp-rd),A_out/plot_list[0].size,'.')\n",
    "ax.plot(t_out*(rp-rd),logist)\n",
    "\n",
    "for i in np.arange(3):\n",
    "\n",
    "    ax = fig.add_subplot(1,4,1+i,adjustable='box')\n",
    "    ax.matshow(plot_list[plot_ind[i]],cmap=cmap,vmin=0,vmax=1)\n",
    "    ax.set_xticks([])\n",
    "    ax.set_yticks([])\n",
    "    ax.set_title(\"$T$ = \" + str(round(t_out[plot_ind[i]*5-1]*(rp-rd),1)))\n",
    "\n",
    "    if i == 0:\n",
    "        ax.set_ylabel(\"$P_p$ = \"+str(rp)+\", $P_d$ = \"+str(rd))\n",
    "\n",
    "\n"
   ]
  }
 ],
 "metadata": {
  "kernelspec": {
   "display_name": "Python 3",
   "language": "python",
   "name": "python3"
  },
  "language_info": {
   "codemirror_mode": {
    "name": "ipython",
    "version": 3
   },
   "file_extension": ".py",
   "mimetype": "text/x-python",
   "name": "python",
   "nbconvert_exporter": "python",
   "pygments_lexer": "ipython3",
   "version": "3.7.3"
  }
 },
 "nbformat": 4,
 "nbformat_minor": 2
}
